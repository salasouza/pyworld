{
 "cells": [
  {
   "cell_type": "code",
   "execution_count": 1,
   "id": "92b76bde",
   "metadata": {},
   "outputs": [],
   "source": [
    "import pandas as pd\n",
    "import numpy as np"
   ]
  },
  {
   "cell_type": "code",
   "execution_count": 2,
   "id": "164725d8",
   "metadata": {},
   "outputs": [],
   "source": [
    "class criarDataFrame:\n",
    "    def __init__(self, media, desvio,qtde_dados_p_grupo,grupos):\n",
    "        self.media = media\n",
    "        self.desvio = desvio\n",
    "        self.grupos = grupos\n",
    "        self.qtde_dados_p_grupo = qtde_dados_p_grupo\n",
    "        \n",
    "    def quantidade_valores_por_grupo(self):\n",
    "        # Passa dinâmico os grupos\n",
    "        b = self.grupos\n",
    "        # Quantidade de dados por grupo\n",
    "        b =  b * self.qtde_dados_p_grupo\n",
    "        # Recupera a quantidade de valores gerados\n",
    "        tamanho = len(b)\n",
    "#         Faz a distribuição dos dados recuperando os valores passados e o tamanho do DF\n",
    "        val = np.random.normal(self.media,self.desvio,tamanho)\n",
    "        \n",
    "        df = pd.DataFrame(data=val, columns=['A'])\n",
    "        df2 = pd.DataFrame(data=b, columns=['B'])\n",
    "\n",
    "        return df.join(df2)\n"
   ]
  },
  {
   "cell_type": "code",
   "execution_count": 3,
   "id": "56072297",
   "metadata": {},
   "outputs": [],
   "source": [
    "media = 2\n",
    "\n",
    "desvio = 2\n",
    "qtde_dados_p_grupo = 2\n",
    "\n",
    "criacao = criarDataFrame(media,desvio,qtde_dados_p_grupo,[\"red\",\"blue\",\"black\",\"green\"])"
   ]
  },
  {
   "cell_type": "code",
   "execution_count": 4,
   "id": "6efa8d6c",
   "metadata": {},
   "outputs": [],
   "source": [
    "retorno = criacao.quantidade_valores_por_grupo()"
   ]
  },
  {
   "cell_type": "code",
   "execution_count": 5,
   "id": "82221569",
   "metadata": {},
   "outputs": [
    {
     "data": {
      "text/html": [
       "<div>\n",
       "<style scoped>\n",
       "    .dataframe tbody tr th:only-of-type {\n",
       "        vertical-align: middle;\n",
       "    }\n",
       "\n",
       "    .dataframe tbody tr th {\n",
       "        vertical-align: top;\n",
       "    }\n",
       "\n",
       "    .dataframe thead th {\n",
       "        text-align: right;\n",
       "    }\n",
       "</style>\n",
       "<table border=\"1\" class=\"dataframe\">\n",
       "  <thead>\n",
       "    <tr style=\"text-align: right;\">\n",
       "      <th></th>\n",
       "      <th>A</th>\n",
       "      <th>B</th>\n",
       "    </tr>\n",
       "  </thead>\n",
       "  <tbody>\n",
       "    <tr>\n",
       "      <th>0</th>\n",
       "      <td>5.434784</td>\n",
       "      <td>red</td>\n",
       "    </tr>\n",
       "    <tr>\n",
       "      <th>1</th>\n",
       "      <td>0.086161</td>\n",
       "      <td>blue</td>\n",
       "    </tr>\n",
       "    <tr>\n",
       "      <th>2</th>\n",
       "      <td>1.029700</td>\n",
       "      <td>black</td>\n",
       "    </tr>\n",
       "    <tr>\n",
       "      <th>3</th>\n",
       "      <td>2.119276</td>\n",
       "      <td>green</td>\n",
       "    </tr>\n",
       "    <tr>\n",
       "      <th>4</th>\n",
       "      <td>-0.720190</td>\n",
       "      <td>red</td>\n",
       "    </tr>\n",
       "    <tr>\n",
       "      <th>5</th>\n",
       "      <td>3.018640</td>\n",
       "      <td>blue</td>\n",
       "    </tr>\n",
       "    <tr>\n",
       "      <th>6</th>\n",
       "      <td>1.698392</td>\n",
       "      <td>black</td>\n",
       "    </tr>\n",
       "    <tr>\n",
       "      <th>7</th>\n",
       "      <td>1.940019</td>\n",
       "      <td>green</td>\n",
       "    </tr>\n",
       "  </tbody>\n",
       "</table>\n",
       "</div>"
      ],
      "text/plain": [
       "          A      B\n",
       "0  5.434784    red\n",
       "1  0.086161   blue\n",
       "2  1.029700  black\n",
       "3  2.119276  green\n",
       "4 -0.720190    red\n",
       "5  3.018640   blue\n",
       "6  1.698392  black\n",
       "7  1.940019  green"
      ]
     },
     "execution_count": 5,
     "metadata": {},
     "output_type": "execute_result"
    }
   ],
   "source": [
    "retorno"
   ]
  },
  {
   "cell_type": "code",
   "execution_count": 154,
   "id": "1b1d30b8",
   "metadata": {},
   "outputs": [
    {
     "data": {
      "text/plain": [
       "count    8.000000\n",
       "mean     2.852206\n",
       "std      0.844416\n",
       "min      1.697034\n",
       "25%      2.110738\n",
       "50%      3.094229\n",
       "75%      3.275484\n",
       "max      4.116855\n",
       "Name: A, dtype: float64"
      ]
     },
     "execution_count": 154,
     "metadata": {},
     "output_type": "execute_result"
    }
   ],
   "source": [
    "retorno['A'].describe()"
   ]
  },
  {
   "cell_type": "code",
   "execution_count": 140,
   "id": "83531a5b",
   "metadata": {},
   "outputs": [
    {
     "data": {
      "text/plain": [
       "2"
      ]
     },
     "execution_count": 140,
     "metadata": {},
     "output_type": "execute_result"
    }
   ],
   "source": [
    "round(2.5)"
   ]
  },
  {
   "cell_type": "markdown",
   "id": "c71d59d8",
   "metadata": {},
   "source": [
    "### Old"
   ]
  },
  {
   "cell_type": "code",
   "execution_count": 156,
   "id": "3f55ebd9",
   "metadata": {},
   "outputs": [],
   "source": [
    "# import pandas\n",
    "\n",
    "# class criarDataFrame:\n",
    "#     def __init__(self, media, desvio, quantidade):\n",
    "#         self.media = media\n",
    "#         self.desvio = desvio\n",
    "#         self.quantidade = quantidade\n",
    "        \n",
    "#     def quantidade_valores_por_grupo(self):\n",
    "# #         return self.quantidade, self.desvio, self.quantidade\n",
    "#         val = np.random.normal(self.media,self.desvio,self.quantidade)\n",
    "#         b =  [\"red\"] * 2 + [\"blue\"] * 2 + [\"black\"] * 2\n",
    "#         df = pd.DataFrame(data=val, columns=['A'])\n",
    "#         df2 = pd.DataFrame(data=b, columns=['B'])\n",
    "\n",
    "#         return df.join(df2)"
   ]
  },
  {
   "cell_type": "code",
   "execution_count": null,
   "id": "dfc8cf91",
   "metadata": {},
   "outputs": [],
   "source": [
    "# criacao = criarDataFrame(2,2,6)\n",
    "# retorno = criacao.quantidade_valores_por_grupo()"
   ]
  }
 ],
 "metadata": {
  "kernelspec": {
   "display_name": "Python 3",
   "language": "python",
   "name": "python3"
  },
  "language_info": {
   "codemirror_mode": {
    "name": "ipython",
    "version": 3
   },
   "file_extension": ".py",
   "mimetype": "text/x-python",
   "name": "python",
   "nbconvert_exporter": "python",
   "pygments_lexer": "ipython3",
   "version": "3.8.8"
  }
 },
 "nbformat": 4,
 "nbformat_minor": 5
}
