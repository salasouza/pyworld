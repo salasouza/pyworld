{
 "cells": [
  {
   "cell_type": "markdown",
   "metadata": {},
   "source": [
    "<h3>Fundamentos de Funções em Python </h3>"
   ]
  },
  {
   "cell_type": "markdown",
   "metadata": {},
   "source": [
    "<h4>Exemplos</h4>"
   ]
  },
  {
   "cell_type": "code",
   "execution_count": 2,
   "metadata": {},
   "outputs": [
    {
     "name": "stdout",
     "output_type": "stream",
     "text": [
      "5\n"
     ]
    }
   ],
   "source": [
    "def soma(a,b):\n",
    "    print(a+b)\n",
    "\n",
    "soma(2,3)"
   ]
  },
  {
   "cell_type": "code",
   "execution_count": 3,
   "metadata": {},
   "outputs": [
    {
     "data": {
      "text/plain": [
       "True"
      ]
     },
     "execution_count": 3,
     "metadata": {},
     "output_type": "execute_result"
    }
   ],
   "source": [
    "def epar(x):\n",
    "    return x % 2 == 0\n",
    "\n",
    "epar(4)"
   ]
  },
  {
   "cell_type": "code",
   "execution_count": 6,
   "metadata": {},
   "outputs": [
    {
     "data": {
      "text/plain": [
       "'par'"
      ]
     },
     "execution_count": 6,
     "metadata": {},
     "output_type": "execute_result"
    }
   ],
   "source": [
    "def par_ou_impar(x):\n",
    "    if epar(x):\n",
    "        return \"par\"\n",
    "    else:\n",
    "        return \"impar\"\n",
    "\n",
    "par_ou_impar(2)"
   ]
  },
  {
   "cell_type": "code",
   "execution_count": 7,
   "metadata": {},
   "outputs": [
    {
     "data": {
      "text/plain": [
       "'impar'"
      ]
     },
     "execution_count": 7,
     "metadata": {},
     "output_type": "execute_result"
    }
   ],
   "source": [
    "def par_ou_impar(x):\n",
    "    if epar(x):\n",
    "        return \"par\"\n",
    "    else:\n",
    "        return \"impar\"\n",
    "\n",
    "par_ou_impar(3)"
   ]
  },
  {
   "cell_type": "code",
   "execution_count": 11,
   "metadata": {},
   "outputs": [
    {
     "data": {
      "text/plain": [
       "2"
      ]
     },
     "execution_count": 11,
     "metadata": {},
     "output_type": "execute_result"
    }
   ],
   "source": [
    "def pesquisa(lista, valor):\n",
    "    \n",
    "    for x, e in enumerate(lista):\n",
    "        if e == valor:\n",
    "            return x\n",
    "    return None \n",
    "\n",
    "l = [10,20,25,30]\n",
    "\n",
    "pesquisa(l, 25)"
   ]
  },
  {
   "cell_type": "code",
   "execution_count": 15,
   "metadata": {},
   "outputs": [
    {
     "data": {
      "text/plain": [
       "(85, 21.25)"
      ]
     },
     "execution_count": 15,
     "metadata": {},
     "output_type": "execute_result"
    }
   ],
   "source": [
    "l = [10,20,25,30]\n",
    "\n",
    "def soma(l):\n",
    "    total = 0\n",
    "    for e in l:\n",
    "        total += e\n",
    "    return total \n",
    "\n",
    "def media(l):\n",
    "    return soma(l)/len(l)\n",
    "\n",
    "soma(l), media(l)"
   ]
  },
  {
   "cell_type": "markdown",
   "metadata": {},
   "source": [
    "<h4>Variavéis locais e globais</h4>"
   ]
  },
  {
   "cell_type": "code",
   "execution_count": 25,
   "metadata": {},
   "outputs": [
    {
     "name": "stdout",
     "output_type": "stream",
     "text": [
      "Testando constante\n",
      "------------------\n"
     ]
    }
   ],
   "source": [
    "# Exemplo de variavél local\n",
    "\n",
    "CONSTANTE = \"Testando constante\" \n",
    "\n",
    "def impressao():\n",
    "    \n",
    "    print(CONSTANTE)\n",
    "    \n",
    "    print(\"-\" * len(CONSTANTE))\n",
    "    \n",
    "impressao()"
   ]
  },
  {
   "cell_type": "code",
   "execution_count": 30,
   "metadata": {},
   "outputs": [
    {
     "name": "stdout",
     "output_type": "stream",
     "text": [
      "a antes de mudar: 5\n",
      "a dentro da função: 7\n",
      "a depois de mudar: 5\n"
     ]
    }
   ],
   "source": [
    "# Exemplo de problema com variavéis locais e globais \n",
    "\n",
    "a = 5\n",
    "\n",
    "def muda_e_impreme():\n",
    "    a = 7\n",
    "    print(f\"a dentro da função: {a}\")\n",
    "    \n",
    "print(f\"a antes de mudar: {a}\")\n",
    "\n",
    "muda_e_impreme()\n",
    "\n",
    "print(f\"a depois de mudar: {a}\")"
   ]
  },
  {
   "cell_type": "code",
   "execution_count": 31,
   "metadata": {},
   "outputs": [
    {
     "name": "stdout",
     "output_type": "stream",
     "text": [
      "a antes de mudar: 5\n",
      "a dentro da função: 7\n",
      "a depois de mudar: 7\n"
     ]
    }
   ],
   "source": [
    "a = 5\n",
    "\n",
    "def muda_e_impreme():\n",
    "    global a\n",
    "    a = 7\n",
    "    print(f\"a dentro da função: {a}\")\n",
    "    \n",
    "print(f\"a antes de mudar: {a}\")\n",
    "\n",
    "muda_e_impreme()\n",
    "\n",
    "print(f\"a depois de mudar: {a}\")"
   ]
  },
  {
   "cell_type": "markdown",
   "metadata": {},
   "source": [
    "<h4>Funções recursivas</h4>"
   ]
  },
  {
   "cell_type": "code",
   "execution_count": 34,
   "metadata": {},
   "outputs": [
    {
     "data": {
      "text/plain": [
       "(6, 24, 120)"
      ]
     },
     "execution_count": 34,
     "metadata": {},
     "output_type": "execute_result"
    }
   ],
   "source": [
    "def fatorial(n):\n",
    "    if n==0 or n==1:\n",
    "        return 1\n",
    "    else:\n",
    "        return n * fatorial(n-1)\n",
    "\n",
    "fatorial(3), fatorial(4), fatorial(5)"
   ]
  },
  {
   "cell_type": "code",
   "execution_count": 35,
   "metadata": {},
   "outputs": [
    {
     "name": "stdout",
     "output_type": "stream",
     "text": [
      "Calculando o fatorial de 3\n",
      "Calculando o fatorial de 2\n",
      "Calculando o fatorial de 1\n",
      "Fatorial de 1 = 1\n",
      "Calculando o fatorial de 4\n",
      "Calculando o fatorial de 3\n",
      "Calculando o fatorial de 2\n",
      "Calculando o fatorial de 1\n",
      "Fatorial de 1 = 1\n",
      "Calculando o fatorial de 5\n",
      "Calculando o fatorial de 4\n",
      "Calculando o fatorial de 3\n",
      "Calculando o fatorial de 2\n",
      "Calculando o fatorial de 1\n",
      "Fatorial de 1 = 1\n"
     ]
    },
    {
     "data": {
      "text/plain": [
       "(6, 24, 120)"
      ]
     },
     "execution_count": 35,
     "metadata": {},
     "output_type": "execute_result"
    }
   ],
   "source": [
    "def fatorial(n):\n",
    "    \n",
    "    print(f\"Calculando o fatorial de {n}\")\n",
    "    \n",
    "    if n==0 or n==1:\n",
    "        print(f\"Fatorial de {n} = 1\")\n",
    "        \n",
    "        return 1\n",
    "    else:\n",
    "        fat = n * fatorial(n-1)\n",
    "        print(f\"fatorial de {n} = \")\n",
    "\n",
    "fatorial(3), fatorial(4), fatorial(5)"
   ]
  }
 ],
 "metadata": {
  "kernelspec": {
   "display_name": "Python 3",
   "language": "python",
   "name": "python3"
  },
  "language_info": {
   "codemirror_mode": {
    "name": "ipython",
    "version": 3
   },
   "file_extension": ".py",
   "mimetype": "text/x-python",
   "name": "python",
   "nbconvert_exporter": "python",
   "pygments_lexer": "ipython3",
   "version": "3.8.6"
  }
 },
 "nbformat": 4,
 "nbformat_minor": 4
}
