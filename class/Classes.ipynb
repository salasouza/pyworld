{
 "cells": [
  {
   "cell_type": "markdown",
   "metadata": {},
   "source": [
    "<h2>Fundamentos de Classe em Python </h2>"
   ]
  },
  {
   "cell_type": "markdown",
   "metadata": {},
   "source": [
    "<div style=\\\"text-align:justify\\\">\n",
    "O objetivo desse notebook é trazer uma introdução sobre os conceitos de classe e objeto em programação orientada a objetos utilizando a linguagem Python.\n",
    "</div>"
   ]
  },
  {
   "cell_type": "markdown",
   "metadata": {},
   "source": [
    "<div style=\\\"text-align:justify\\\">\n",
    "    Um <b>objeto</b> pode ser entendido como uma variável cujo tipo é uma <b>classe</b>. O objeto é uma instância de uma classe. O conceito de instância está relacionado a qualidade de algo eminente, algo que pode acontecer. Dessa forma, a instãncia de uma classe pode ser definida como um objeto cujo <b>comportamento</b> e <b>estado</b> são definidos pela classe.<br>\n",
    "<br>\n",
    "A instância compartilha um conjunto de atributos ou descritores que emboram possam apresentar diferenças quanto o que cada atributo apresente. Assim a instância pode ser considerada a materialização de uma classe, a coisa real que abstração intui. \n",
    "</div>"
   ]
  },
  {
   "cell_type": "code",
   "execution_count": 19,
   "metadata": {},
   "outputs": [],
   "source": [
    "# Pensar sobre o objeto televisão\n",
    "\n",
    "class Televisao:\n",
    "    def __init__(self):\n",
    "        self.ligada = False\n",
    "        self.canal = 2\n"
   ]
  },
  {
   "cell_type": "code",
   "execution_count": 21,
   "metadata": {},
   "outputs": [
    {
     "data": {
      "text/plain": [
       "False"
      ]
     },
     "execution_count": 21,
     "metadata": {},
     "output_type": "execute_result"
    }
   ],
   "source": [
    "tv = Televisao()\n",
    "\n",
    "tv.ligada"
   ]
  },
  {
   "cell_type": "code",
   "execution_count": 22,
   "metadata": {},
   "outputs": [
    {
     "data": {
      "text/plain": [
       "2"
      ]
     },
     "execution_count": 22,
     "metadata": {},
     "output_type": "execute_result"
    }
   ],
   "source": [
    "tv.canal"
   ]
  },
  {
   "cell_type": "code",
   "execution_count": 23,
   "metadata": {},
   "outputs": [],
   "source": [
    "tv_sala = Televisao()"
   ]
  },
  {
   "cell_type": "code",
   "execution_count": 25,
   "metadata": {},
   "outputs": [],
   "source": [
    "tv_sala.ligada = True\n",
    "\n",
    "tv_sala.canal = 4"
   ]
  },
  {
   "cell_type": "code",
   "execution_count": 27,
   "metadata": {},
   "outputs": [
    {
     "data": {
      "text/plain": [
       "2"
      ]
     },
     "execution_count": 27,
     "metadata": {},
     "output_type": "execute_result"
    }
   ],
   "source": [
    "tv.canal"
   ]
  },
  {
   "cell_type": "code",
   "execution_count": 28,
   "metadata": {},
   "outputs": [
    {
     "data": {
      "text/plain": [
       "4"
      ]
     },
     "execution_count": 28,
     "metadata": {},
     "output_type": "execute_result"
    }
   ],
   "source": [
    "tv_sala.canal"
   ]
  },
  {
   "cell_type": "code",
   "execution_count": 35,
   "metadata": {},
   "outputs": [],
   "source": [
    "# Exercicios \n",
    "\n",
    "class Televisao:\n",
    "    def __init__(self):\n",
    "        self.ligada = False\n",
    "        self.canal = 2\n",
    "        self.marca = \"LG\"\n",
    "        self.tamanho = 17"
   ]
  },
  {
   "cell_type": "code",
   "execution_count": 36,
   "metadata": {},
   "outputs": [
    {
     "data": {
      "text/plain": [
       "__main__.Televisao"
      ]
     },
     "execution_count": 36,
     "metadata": {},
     "output_type": "execute_result"
    }
   ],
   "source": [
    "Televisao"
   ]
  },
  {
   "cell_type": "code",
   "execution_count": 39,
   "metadata": {},
   "outputs": [],
   "source": [
    "tv = Televisao()"
   ]
  },
  {
   "cell_type": "code",
   "execution_count": 40,
   "metadata": {},
   "outputs": [
    {
     "data": {
      "text/plain": [
       "'LG'"
      ]
     },
     "execution_count": 40,
     "metadata": {},
     "output_type": "execute_result"
    }
   ],
   "source": [
    "tv.marca"
   ]
  },
  {
   "cell_type": "code",
   "execution_count": 41,
   "metadata": {},
   "outputs": [
    {
     "data": {
      "text/plain": [
       "17"
      ]
     },
     "execution_count": 41,
     "metadata": {},
     "output_type": "execute_result"
    }
   ],
   "source": [
    "tv.tamanho"
   ]
  },
  {
   "cell_type": "code",
   "execution_count": 42,
   "metadata": {},
   "outputs": [],
   "source": [
    "tva = Televisao()"
   ]
  },
  {
   "cell_type": "code",
   "execution_count": 43,
   "metadata": {},
   "outputs": [],
   "source": [
    "tva.marca = 'Sony'\n",
    "tva.tamanho = 21"
   ]
  },
  {
   "cell_type": "code",
   "execution_count": 44,
   "metadata": {},
   "outputs": [
    {
     "data": {
      "text/plain": [
       "'Sony'"
      ]
     },
     "execution_count": 44,
     "metadata": {},
     "output_type": "execute_result"
    }
   ],
   "source": [
    "tva.marca"
   ]
  },
  {
   "cell_type": "code",
   "execution_count": 45,
   "metadata": {},
   "outputs": [
    {
     "data": {
      "text/plain": [
       "21"
      ]
     },
     "execution_count": 45,
     "metadata": {},
     "output_type": "execute_result"
    }
   ],
   "source": [
    "tva.tamanho"
   ]
  },
  {
   "cell_type": "code",
   "execution_count": 51,
   "metadata": {},
   "outputs": [],
   "source": [
    "# Adicionando dois métodos\n",
    "\n",
    "class Televisao:\n",
    "    def __init__(self):\n",
    "        self.ligada = False\n",
    "        self.canal = 2\n",
    "        self.marca = \"LG\"\n",
    "        self.tamanho = 17\n",
    "        \n",
    "    def muda_canal_para_baixo(self):\n",
    "        self.canal -= 1\n",
    "        \n",
    "    def muda_canal_para_cima(self):\n",
    "        self.canal +=1"
   ]
  },
  {
   "cell_type": "code",
   "execution_count": 52,
   "metadata": {},
   "outputs": [],
   "source": [
    "tv = Televisao()"
   ]
  },
  {
   "cell_type": "code",
   "execution_count": 53,
   "metadata": {},
   "outputs": [
    {
     "data": {
      "text/plain": [
       "4"
      ]
     },
     "execution_count": 53,
     "metadata": {},
     "output_type": "execute_result"
    }
   ],
   "source": [
    "tv.muda_canal_para_cima()\n",
    "tv.muda_canal_para_cima()\n",
    "tv.canal"
   ]
  },
  {
   "cell_type": "code",
   "execution_count": 54,
   "metadata": {},
   "outputs": [
    {
     "data": {
      "text/plain": [
       "3"
      ]
     },
     "execution_count": 54,
     "metadata": {},
     "output_type": "execute_result"
    }
   ],
   "source": [
    "tv.muda_canal_para_baixo()\n",
    "tv.canal"
   ]
  },
  {
   "cell_type": "markdown",
   "metadata": {},
   "source": [
    "<h3>Passagem de parâmetros</h3>"
   ]
  },
  {
   "cell_type": "code",
   "execution_count": 159,
   "metadata": {},
   "outputs": [],
   "source": [
    "# Problema do menor valor e do máximo valor para o número de canais da TV\n",
    "\n",
    "class Televisao:\n",
    "    def __init__(self, min, max):\n",
    "        self.ligada = False\n",
    "        self.canal = 2\n",
    "        self.cmin = min\n",
    "        self.cmax = max \n",
    "        \n",
    "    def muda_canal_para_baixo(self):\n",
    "        if self.canal - 1 >= self.cmin:\n",
    "            self.canal -= 1\n",
    "            \n",
    "    def muda_canal_para_cima(self):\n",
    "        if self.canal + 1 <= self.cmax:\n",
    "            self.canal += 1"
   ]
  },
  {
   "cell_type": "code",
   "execution_count": 160,
   "metadata": {},
   "outputs": [],
   "source": [
    "tv = Televisao(2,10)"
   ]
  },
  {
   "cell_type": "code",
   "execution_count": 161,
   "metadata": {},
   "outputs": [
    {
     "data": {
      "text/plain": [
       "3"
      ]
     },
     "execution_count": 161,
     "metadata": {},
     "output_type": "execute_result"
    }
   ],
   "source": [
    "tv.muda_canal_para_cima()\n",
    "\n",
    "tv.canal"
   ]
  },
  {
   "cell_type": "code",
   "execution_count": 162,
   "metadata": {},
   "outputs": [
    {
     "name": "stdout",
     "output_type": "stream",
     "text": [
      "10\n"
     ]
    }
   ],
   "source": [
    "for x in range(0,120):\n",
    "    tv.muda_canal_para_cima()\n",
    "\n",
    "print(tv.canal)"
   ]
  },
  {
   "cell_type": "code",
   "execution_count": 163,
   "metadata": {},
   "outputs": [
    {
     "name": "stdout",
     "output_type": "stream",
     "text": [
      "2\n"
     ]
    }
   ],
   "source": [
    "for x in range(0,120):\n",
    "    tv.muda_canal_para_baixo()\n",
    "\n",
    "print(tv.canal)"
   ]
  },
  {
   "cell_type": "code",
   "execution_count": 542,
   "metadata": {},
   "outputs": [],
   "source": [
    "class Televisao:\n",
    "    def __init__(self, min, max):\n",
    "        self.ligada = False\n",
    "        self.canal = 2\n",
    "        self.cmin = min\n",
    "        self.cmax = max \n",
    "    \n",
    "    def muda_canal_para_cima(self):\n",
    "        if self.canal + 1 <= self.cmax:\n",
    "            self.canal += 1\n",
    "        else:\n",
    "             self.canal = self.cmin # além do maximo ele volta para o mínimo\n",
    "        \n",
    "    def muda_canal_para_baixo(self):\n",
    "        if self.canal - 1 >= self.cmin:\n",
    "            self.canal -= 1 \n",
    "        else:\n",
    "             self.canal = self.cmax 3 além do minimo ele volta para o maximo"
   ]
  },
  {
   "cell_type": "code",
   "execution_count": 543,
   "metadata": {},
   "outputs": [],
   "source": [
    "tv = Televisao(2,10)"
   ]
  },
  {
   "cell_type": "code",
   "execution_count": 552,
   "metadata": {},
   "outputs": [
    {
     "data": {
      "text/plain": [
       "2"
      ]
     },
     "execution_count": 552,
     "metadata": {},
     "output_type": "execute_result"
    }
   ],
   "source": [
    "tv.muda_canal_para_cima()\n",
    "\n",
    "tv.canal"
   ]
  },
  {
   "cell_type": "code",
   "execution_count": 562,
   "metadata": {},
   "outputs": [
    {
     "data": {
      "text/plain": [
       "10"
      ]
     },
     "execution_count": 562,
     "metadata": {},
     "output_type": "execute_result"
    }
   ],
   "source": [
    "tv.muda_canal_para_baixo()\n",
    "\n",
    "tv.canal"
   ]
  },
  {
   "cell_type": "code",
   "execution_count": null,
   "metadata": {},
   "outputs": [],
   "source": []
  },
  {
   "cell_type": "code",
   "execution_count": 652,
   "metadata": {},
   "outputs": [],
   "source": [
    "class Televisao:\n",
    "    def __init__(self, min=False, max=False): # parâmetros opcionais\n",
    "        self.ligada = False\n",
    "        self.canal = 2\n",
    "        self.cmin = 2\n",
    "        self.cmax = 4\n",
    "    \n",
    "    def muda_canal_para_cima(self):\n",
    "        if self.canal + 1 <= self.cmax:\n",
    "            self.canal += 1\n",
    "        else:\n",
    "             self.canal = self.cmin # além do maximo ele volta para o mínimo\n",
    "        \n",
    "    def muda_canal_para_baixo(self):\n",
    "        if self.canal - 1 >= self.cmin:\n",
    "            self.canal -= 1 \n",
    "        else:\n",
    "             self.canal = self.cmax # além do minimo ele volta para o maximo"
   ]
  },
  {
   "cell_type": "code",
   "execution_count": 653,
   "metadata": {},
   "outputs": [],
   "source": [
    "tv = Televisao()"
   ]
  },
  {
   "cell_type": "code",
   "execution_count": 654,
   "metadata": {},
   "outputs": [
    {
     "data": {
      "text/plain": [
       "4"
      ]
     },
     "execution_count": 654,
     "metadata": {},
     "output_type": "execute_result"
    }
   ],
   "source": [
    "tv.cmax"
   ]
  },
  {
   "cell_type": "code",
   "execution_count": 655,
   "metadata": {},
   "outputs": [
    {
     "data": {
      "text/plain": [
       "2"
      ]
     },
     "execution_count": 655,
     "metadata": {},
     "output_type": "execute_result"
    }
   ],
   "source": [
    "tv.cmin"
   ]
  },
  {
   "cell_type": "markdown",
   "metadata": {},
   "source": [
    "<h4>Exemplos</h4>"
   ]
  },
  {
   "cell_type": "code",
   "execution_count": 11,
   "metadata": {},
   "outputs": [
    {
     "name": "stdout",
     "output_type": "stream",
     "text": [
      "teste\n"
     ]
    }
   ],
   "source": [
    "class Simples:\n",
    "    pass\n",
    "\n",
    "s1 = Simples()\n",
    "\n",
    "s1.metodo1 = 'teste'\n",
    "\n",
    "print(s1.metodo1)"
   ]
  },
  {
   "cell_type": "code",
   "execution_count": 12,
   "metadata": {},
   "outputs": [
    {
     "name": "stdout",
     "output_type": "stream",
     "text": [
      "['__class__', '__delattr__', '__dict__', '__dir__', '__doc__', '__eq__', '__format__', '__ge__', '__getattribute__', '__gt__', '__hash__', '__init__', '__init_subclass__', '__le__', '__lt__', '__module__', '__ne__', '__new__', '__reduce__', '__reduce_ex__', '__repr__', '__setattr__', '__sizeof__', '__str__', '__subclasshook__', '__weakref__', 'metodo1']\n"
     ]
    }
   ],
   "source": [
    "print(dir(s1))"
   ]
  },
  {
   "cell_type": "code",
   "execution_count": null,
   "metadata": {},
   "outputs": [],
   "source": []
  }
 ],
 "metadata": {
  "kernelspec": {
   "display_name": "Python 3",
   "language": "python",
   "name": "python3"
  },
  "language_info": {
   "codemirror_mode": {
    "name": "ipython",
    "version": 3
   },
   "file_extension": ".py",
   "mimetype": "text/x-python",
   "name": "python",
   "nbconvert_exporter": "python",
   "pygments_lexer": "ipython3",
   "version": "3.8.6"
  }
 },
 "nbformat": 4,
 "nbformat_minor": 5
}
