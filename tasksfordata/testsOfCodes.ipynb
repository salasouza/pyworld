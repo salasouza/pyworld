{
 "cells": [
  {
   "cell_type": "code",
   "execution_count": 12,
   "metadata": {},
   "outputs": [
    {
     "name": "stdout",
     "output_type": "stream",
     "text": [
      "createData.py  __pycache__\t    sankey_diagram.py\t Untitled.ipynb\r\n",
      "impordatas.py  README.md\t    teste\r\n",
      "LICENSE        readMultipleData.py  test_importdatas.py\r\n",
      "notes.ipynb    sankey.csv\t    trust\r\n"
     ]
    }
   ],
   "source": [
    "!ls"
   ]
  },
  {
   "cell_type": "code",
   "execution_count": 17,
   "metadata": {},
   "outputs": [
    {
     "name": "stdout",
     "output_type": "stream",
     "text": [
      "Number of files: <generator object walk at 0x7fee880462e0>\n"
     ]
    }
   ],
   "source": [
    "import os \n",
    "\n",
    "files = next(os.walk('teste/'))\n",
    "\n",
    "print('Number of files:', files)"
   ]
  },
  {
   "cell_type": "code",
   "execution_count": 19,
   "metadata": {},
   "outputs": [
    {
     "name": "stdout",
     "output_type": "stream",
     "text": [
      "4\n"
     ]
    }
   ],
   "source": [
    "import os\n",
    "\n",
    "list = os.listdir('teste/') # dir is your directory path\n",
    "\n",
    "number_files = len(list)\n",
    "\n",
    "print(number_files)"
   ]
  }
 ],
 "metadata": {
  "kernelspec": {
   "display_name": "Python 3",
   "language": "python",
   "name": "python3"
  },
  "language_info": {
   "codemirror_mode": {
    "name": "ipython",
    "version": 3
   },
   "file_extension": ".py",
   "mimetype": "text/x-python",
   "name": "python",
   "nbconvert_exporter": "python",
   "pygments_lexer": "ipython3",
   "version": "3.8.10"
  }
 },
 "nbformat": 4,
 "nbformat_minor": 4
}
