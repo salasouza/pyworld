{
 "cells": [
  {
   "cell_type": "markdown",
   "metadata": {},
   "source": [
    "<h1> Regressão Linear - Introdução </h1> "
   ]
  },
  {
   "cell_type": "markdown",
   "metadata": {},
   "source": [
    "<div style=\"text-align:justify\"> \n",
    "Este notebook tem por objetivo apresentar os conceitos básicos para o aprendizado da regressão linear. \n",
    "</div>"
   ]
  },
  {
   "cell_type": "markdown",
   "metadata": {},
   "source": [
    "<h3> Introdução ao conceito de regressão linear e seus parâmetros </h3>"
   ]
  },
  {
   "cell_type": "markdown",
   "metadata": {},
   "source": [
    "<div style=\"text-align:justify\">\n",
    "Os modelos lineares simples são a base para o entendimento de modelos mais complexos como o GLM <code>(Modelos Lineares Generalizados)</code>. Os modelos lineares são modelos de regressão a qual a se busca explicar quanto da variação da variável resposta <b>($y_i$)</b> é explicado pelas variáveis descritoras <b>($x_i$)</b>.\n",
    "<br>\n",
    "<br>\n",
    "De modo geral podemos resumir a regressão como:\n",
    "<br>\n",
    "<br>\n",
    "<code>1.</code> Uma análise que permite verificar relações entre variáveis.\n",
    "<br>\n",
    "<br>    \n",
    "<code>2.</code> Uma análise que descreve a relação linear entre uma variável preditora e uma variável resposta.\n",
    "<br>\n",
    "<br>    \n",
    "Um outro ponto importante é a discussão sobre a direção da relação entre causa e efeito. Pois nem sempre é obvio se o fator A influencia no fator B, ou se o fator B influencia em A. Quando a direção dessa relação for concluída podemo passar para  fase das descrição dessa relação utilizando uma função matemática:\n",
    "<br>\n",
    "<br>    \n",
    "$ \\hat{Y}=f(X) $\n",
    "<br>\n",
    "<br>    \n",
    "Aqui vale ressaltar que aplicamos a função $f$ para cada valor de $X$, a qual gera um correspondente para a resposta $Y$. Ou seja, para esse exemplo podemos definir que <b> $Y$ é uma função linear de $X$</b>.\n",
    "<br>\n",
    "<br>\n",
    "$ \\hat{y} = \\beta_0 + \\beta_1\\ x_i  + \\epsilon_i $\n",
    "<br>\n",
    "<br>\n",
    "Onde:\n",
    "<br>\n",
    "<br>\n",
    "$ \\hat{y} $ = Valores preditos pelas variáveis respostas;\n",
    "\n",
    "$ \\beta_o $ = Valor do intercepto da reta ao eixo y do plano \n",
    "\n",
    "$ \\beta_1$ = Valor da inclinação da reta;\n",
    "\n",
    "$ x_i $ = Variável descritora;\n",
    "<br>\n",
    "<br>\n",
    "A equação acima descreve o gráfico de uma linha reta, ao qual o modelo tem dois parâmetros $\\beta_0$ e $\\beta_1$. $\\beta_0$ é o resultado da função $f$ quando $X=0$. \n",
    "<br>\n",
    "<br>    \n",
    "O valor de $\\beta_1$ é uma medida de variação, ou seja, uma taxa que é medida em unidades de $\\Large{\\frac{\\Delta_Y} {\\Delta_X}} $.\n",
    "<br>\n",
    "<br>    \n",
    "Quando conhecemos esses dois parâmetros podemos então usar a equação $ \\hat{Y} = \\beta_0 + \\beta_1\\ x_i$ para predizer os valores $\\hat{Y}$ para qualquer valor de $X$ \n",
    "<br>\n",
    "<br>\n",
    "A Figura abaixo mostra o posicionalmente no plano cartesiano dos parametros da regressão linear.\n",
    "</div>"
   ]
  },
  {
   "cell_type": "markdown",
   "metadata": {},
   "source": [
    "<h3>Representação gráfica dos parâmetros</h3>"
   ]
  },
  {
   "cell_type": "code",
   "execution_count": 1,
   "metadata": {},
   "outputs": [
    {
     "data": {
      "text/html": [
       "<img src=\"images/image1.png\"/>"
      ],
      "text/plain": [
       "<IPython.core.display.Image object>"
      ]
     },
     "execution_count": 1,
     "metadata": {},
     "output_type": "execute_result"
    }
   ],
   "source": [
    "from IPython.display import Image\n",
    "Image(url = 'images/image1.png')"
   ]
  },
  {
   "cell_type": "code",
   "execution_count": 2,
   "metadata": {},
   "outputs": [
    {
     "data": {
      "text/html": [
       "<img src=\"images/image2.png\"/>"
      ],
      "text/plain": [
       "<IPython.core.display.Image object>"
      ]
     },
     "execution_count": 2,
     "metadata": {},
     "output_type": "execute_result"
    }
   ],
   "source": [
    "from IPython.display import Image\n",
    "Image(url = 'images/image2.png')"
   ]
  },
  {
   "cell_type": "markdown",
   "metadata": {},
   "source": [
    "<h3> Ajustamento de dados ao modelo linear </h3>"
   ]
  },
  {
   "cell_type": "markdown",
   "metadata": {},
   "source": [
    "<div style=\"text-align:justify\">\n",
    "Até o momento falamos sobre os parâmetros $\\beta_0$ e $\\beta_1$. No entanto, na equação acima existe o termo $\\large{\\epsilon_i}$ que podemos denominar <code>erro</code>. Esse erro refere-se ao fato de que cada observação de uma amostra apresenta um valor de $x_i$ correspondente a um valor de $\\hat{y_i}$. Dado que uma amostra contem inúmeros valores de $X$ dado que $i=(1,...,n)$ a qual sua replica $i$ para cada valor observado. Assim, devemos adicionar a equação o erro.\n",
    "<br>\n",
    "<br>\n",
    "O valor do erro ($\\large{\\epsilon_i}$) é uma variável aleatório normal. Essa variavel tem uma distribuição com valor esperado igual a 0, $E(\\epsilon_i=0)$ e uma variância igual zero, $V(\\epsilon_i)=\\sigma^2$.\n",
    "<br>\n",
    "<br>\n",
    "Quando todos os valores caem numa linha reta temos uma $\\sigma^2=0$ e assim poderemos construir os valores dos parâmetros $\\beta_0$ e $\\beta_1$ a partir dessa linha desenhada.\n",
    "<br>\n",
    "<br>\n",
    "No entanto, essa situação acima é muito dificil de ocorrer em dados oriundo de fontes reais. Assim sempre haverá ruídos ou pontos que caem fora da curva tracejada. Dessa forma podemos definir que quanto maior os valores de $\\sigma^2$ maior será o residuo ou erro sobre a linha da regressão.\n",
    "<br> \n",
    "<br>\n",
    "Nesse contexto surge a pergunta: Qual o melhor ajuste de uma linha para uma nuvem de dados? Ou seja qual o melhor ajuste para traçarmos uma linha sobre um conjunto de dados e como definimos isso? Aqui cabe um novo conceito denominado <b>resíduo quadrado</b> $(d_i^2)$.  \n",
    "</div>"
   ]
  },
  {
   "cell_type": "markdown",
   "metadata": {},
   "source": [
    "<h3>Resíduo Quadrado</h3>"
   ]
  },
  {
   "cell_type": "markdown",
   "metadata": {},
   "source": [
    "<div style=\"text-align:justify\">\n",
    "A determinação do valor do $\\Large{d_i^2}$ é a diferença quadrada entre o valor de $Y_i$ observado e o valor de $Y$ que é predito pela regressão $\\hat{Y_i}$. \n",
    "<br>\n",
    "<br>\n",
    "De maneira formal o resíduo quadrado pode ser calculado da seguinte forma:\n",
    "<br>\n",
    "<br> \n",
    "$\\large{d_i^2 = (Y_i - \\hat{Y_i})^2}$\n",
    "<br>\n",
    "<br>\n",
    "Nessa equação utilizamos valores elevado ao quadrado para evitar os valores negativos já que estamos interessados apenas na magnitude da diferença. Para cada valor em $Y_i$ teremos um ponto da reta que passa de modo a minimizar o resíduo $d_i=0$.\n",
    "</div>"
   ]
  },
  {
   "cell_type": "markdown",
   "metadata": {},
   "source": [
    "<h3>Soma dos Quadrados dos Resíduos</h3>"
   ]
  },
  {
   "cell_type": "markdown",
   "metadata": {},
   "source": [
    "<div style=\"text-align:justify\">\n",
    "No entanto, como estamos trabalhando com uma nuvem de dados é importante que a reta passe por todos os pontos de modo a ter menores valores de resíduo. Assim precisamos definir a <b>soma dos quadrados dos resíduos (SQR)</b>\n",
    "<br>\n",
    "<br>\n",
    "A SQR pode ser calculada da seguinte forma:\n",
    "<br>\n",
    "<br>\n",
    "$SQR=\\displaystyle\\sum_{i=1}^{n}(Y_i - \\hat{Y_i})^2$\n",
    "<br>\n",
    "<br>\n",
    "A reta de melhor ajuste é aquela que apresente que minimize a soma dos quadrados dos resíduos. Assim garantimos que exista\n",
    "uma menor diferença entre o valor ajustado $Y_i$ do valor predito $\\hat{Y_i}$ na equação da reta. \n",
    "<br>\n",
    "<br>\n",
    "O gráfico abaixo demonstra como ocorrer o cálculo do resíduo quadrado.\n",
    "</div>"
   ]
  },
  {
   "cell_type": "markdown",
   "metadata": {},
   "source": [
    "<h3>Representação gráfica</h3> "
   ]
  },
  {
   "cell_type": "code",
   "execution_count": 3,
   "metadata": {},
   "outputs": [
    {
     "data": {
      "text/html": [
       "<img src=\"images/image3.png\"/>"
      ],
      "text/plain": [
       "<IPython.core.display.Image object>"
      ]
     },
     "execution_count": 3,
     "metadata": {},
     "output_type": "execute_result"
    }
   ],
   "source": [
    "from IPython.display import Image\n",
    "Image(url = 'images/image3.png')"
   ]
  },
  {
   "cell_type": "code",
   "execution_count": null,
   "metadata": {},
   "outputs": [],
   "source": []
  }
 ],
 "metadata": {
  "kernelspec": {
   "display_name": "Python 3",
   "language": "python",
   "name": "python3"
  },
  "language_info": {
   "codemirror_mode": {
    "name": "ipython",
    "version": 3
   },
   "file_extension": ".py",
   "mimetype": "text/x-python",
   "name": "python",
   "nbconvert_exporter": "python",
   "pygments_lexer": "ipython3",
   "version": "3.8.6"
  }
 },
 "nbformat": 4,
 "nbformat_minor": 4
}
