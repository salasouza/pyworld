{
 "cells": [
  {
   "cell_type": "markdown",
   "metadata": {},
   "source": [
    "<h1>Modelos Lineares - Introdução</h1>"
   ]
  },
  {
   "cell_type": "markdown",
   "metadata": {},
   "source": [
    "<div style=\"text-align:justify\">\n",
    "Estes notebook visa introduzir os conceitos de modelos lineares que são importantes fundamentos para modelos estatísticos mais complexos. Assim como exemplos práticos passo a passo de como implementá-los.\n",
    "</div>"
   ]
  },
  {
   "cell_type": "markdown",
   "metadata": {},
   "source": [
    "<h3> Exemplos de Modelos Lineares mais comuns </h3>"
   ]
  },
  {
   "cell_type": "markdown",
   "metadata": {},
   "source": [
    "- Regressão Linear simples\n",
    "- Regressão Linear Multipla\n",
    "- Modelos Lineares Generalizados\n",
    "- Análise de Variancia"
   ]
  },
  {
   "cell_type": "markdown",
   "metadata": {},
   "source": [
    "<h3> Exemplos práticos </h3>"
   ]
  },
  {
   "cell_type": "markdown",
   "metadata": {},
   "source": [
    "- [Regressão Linear Simples](simple.ipynb)\n",
    "- [Regressão Linear Múltipla](multipla.ipynb)\n",
    "- [Modelo Linear Generalizado](glm.ipynb)\n",
    "- [Análise de Variância](anova.ipynb)\n"
   ]
  }
 ],
 "metadata": {
  "kernelspec": {
   "display_name": "Python 3",
   "language": "python",
   "name": "python3"
  },
  "language_info": {
   "codemirror_mode": {
    "name": "ipython",
    "version": 3
   },
   "file_extension": ".py",
   "mimetype": "text/x-python",
   "name": "python",
   "nbconvert_exporter": "python",
   "pygments_lexer": "ipython3",
   "version": "3.8.6"
  }
 },
 "nbformat": 4,
 "nbformat_minor": 4
}
